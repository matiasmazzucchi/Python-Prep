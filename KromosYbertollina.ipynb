{
  "nbformat": 4,
  "nbformat_minor": 0,
  "metadata": {
    "colab": {
      "provenance": [],
      "authorship_tag": "ABX9TyNd+MDO1sIWF5KOhPSsUPkZ",
      "include_colab_link": true
    },
    "kernelspec": {
      "name": "python3",
      "display_name": "Python 3"
    },
    "language_info": {
      "name": "python"
    }
  },
  "cells": [
    {
      "cell_type": "markdown",
      "metadata": {
        "id": "view-in-github",
        "colab_type": "text"
      },
      "source": [
        "<a href=\"https://colab.research.google.com/github/matiasmazzucchi/Python-Prep/blob/main/KromosYbertollina.ipynb\" target=\"_parent\"><img src=\"https://colab.research.google.com/assets/colab-badge.svg\" alt=\"Open In Colab\"/></a>"
      ]
    },
    {
      "cell_type": "code",
      "execution_count": 1,
      "metadata": {
        "id": "854_kDNyKXaH"
      },
      "outputs": [],
      "source": [
        "#llamar a las siguientes bibliotecas\n",
        "from bs4 import BeautifulSoup\n",
        "import requests\n",
        "import pandas as pd\n",
        "import re\n",
        "import csv"
      ]
    },
    {
      "cell_type": "code",
      "source": [
        "#URL DE CADA PAGINA (terminados en 'K'es de la pagina Kromos y terminados en 'B' es de la pagina de bertollina)\n",
        "URL_BASE_K = 'https://www.kromosbicicletas.com.ar/productos/mar/1/venzo'\n",
        "URL_BASE_B = 'https://www.bertolinabikes.com/search/?q=venzo&mpage=2'\n",
        "\n",
        "#Obtener el HTML de la página\n",
        "pedido_obtenidoK = requests.get(URL_BASE_K)\n",
        "html_obtenidoK = pedido_obtenidoK.text\n",
        "pedido_obtenidoB = requests.get(URL_BASE_B)\n",
        "html_obtenidoB = pedido_obtenidoB.text\n",
        "\n",
        "\n",
        "#Parsear el HTML\n",
        "soupK = BeautifulSoup(html_obtenidoK, 'html.parser')\n",
        "soupB = BeautifulSoup(html_obtenidoB, 'html.parser')\n"
      ],
      "metadata": {
        "id": "K_qLgAaxKk6D"
      },
      "execution_count": 2,
      "outputs": []
    },
    {
      "cell_type": "code",
      "source": [
        "# Encontrar todos los títulos y precios\n",
        "#KROMOS\n",
        "bicicletasK = soupK.find_all('h2', class_='tt-title')\n",
        "precioK = soupK.find_all('div', class_=\"tt-price\")\n",
        "#BERTOLLINA\n",
        "bicicletasB = soupB.find_all('a', class_='js-item-name')\n",
        "preciosB = soupB.find_all('span', class_='js-price-display item-price h6')\n",
        "precios_viejosB = soupB.find_all('span', class_=\"js-compare-price-display item-price-compare p-none-left-xs p-right-quarter-xs\")\n"
      ],
      "metadata": {
        "id": "zOJsyvFtKqt6"
      },
      "execution_count": 3,
      "outputs": []
    },
    {
      "cell_type": "code",
      "source": [
        "#Creating the lists for the next dataframe\n",
        "#KROMOS\n",
        "bicicletasKL = []\n",
        "precioKL = []\n",
        "#BERTOLLINA\n",
        "bicicletaBL = []\n",
        "preciosBL = []\n",
        "precios_viejosBL = []"
      ],
      "metadata": {
        "id": "z1_NKDX15mUK"
      },
      "execution_count": 4,
      "outputs": []
    },
    {
      "cell_type": "code",
      "source": [
        "#Ciclos for para limpiar los datos y obtener los nombres y bicicletas\n",
        "#KROMOS\n",
        "for bicicleta in bicicletasK:\n",
        " bicicletasKL.append(bicicleta.get_text(strip=True))\n",
        "\n",
        "for precios in precioK:\n",
        "  precioKL.append(precios.get_text(strip=True))\n",
        "\n",
        "#BERTOLLINA\n",
        "for bicicletas in bicicletasB:\n",
        "  bicicletaBL.append(bicicletas.get_text(strip=True))\n",
        "\n",
        "for precios in preciosB:\n",
        "  preciosBL.append(precios.get_text(strip=True))\n",
        "\n",
        "\n",
        "for precio_viejo in precios_viejosB:\n",
        "  precios_viejosBL.append(precio_viejo.get_text(strip=True))\n"
      ],
      "metadata": {
        "id": "uzF-JwX9MBfN"
      },
      "execution_count": 5,
      "outputs": []
    },
    {
      "cell_type": "code",
      "source": [
        "#Armado del dataframe\n",
        "#KROMOS DATAFRAME\n",
        "ListaFinalK = list(zip(bicicletasKL, precioKL))\n",
        "dfK = pd.DataFrame(ListaFinalK, columns=['Bicicleta','Precio'])\n",
        "\n",
        "#BERTOLLINA DATAFRAME\n",
        "ListaFinalB = list(zip(bicicletaBL, preciosBL, precios_viejosBL))\n",
        "dfB = pd.DataFrame(ListaFinalB, columns=['Bicicleta','Precio', 'Precios Viejos'])"
      ],
      "metadata": {
        "id": "_PpCYlgZwE_S"
      },
      "execution_count": 6,
      "outputs": []
    },
    {
      "cell_type": "code",
      "source": [
        "# prompt: eliminar los puntos de la columna de 'Precios' y 'Precios Viejos' de la variable 'dfB'\n",
        "\n",
        "dfB['Precios Viejos'] = dfB['Precios Viejos'].str.replace('.', '')\n",
        "dfB['Precio'] = dfB['Precio'].str.replace('.', '')\n"
      ],
      "metadata": {
        "id": "JvD3-RCDu-n8"
      },
      "execution_count": 11,
      "outputs": []
    },
    {
      "cell_type": "code",
      "source": [
        "# prompt: eliminar los puntos de la columna 'Precio' de la variable 'dfK' y tambien eliminar los ultimos dos digitos de la columna 'Precio' del la variable 'dfK'\n",
        "\n",
        "# Eliminar los puntos de la columna 'Precio' de la variable 'dfK'\n",
        "dfK['Precio'] = dfK['Precio'].str.replace('.', '')\n",
        "\n",
        "# Eliminar los últimos dos dígitos de la columna 'Precio' del la variable 'dfK'\n",
        "dfK['Precio'] = dfK['Precio'].str[:-2]\n"
      ],
      "metadata": {
        "id": "sJWTK3IIv0jt"
      },
      "execution_count": 14,
      "outputs": []
    },
    {
      "cell_type": "markdown",
      "source": [
        "CREATING A DATAFRAME TO EXPORT DATA TO GOOGLE SHEETS FROM GOOGLE COLAB\n"
      ],
      "metadata": {
        "id": "62H1CtHgljWa"
      }
    },
    {
      "cell_type": "code",
      "source": [
        "#Autenticacion y permisos de uso de la API de google SHEETS\n",
        "from google.colab import auth\n",
        "auth.authenticate_user()\n",
        "\n",
        "import gspread\n",
        "from google.auth import default\n",
        "creds, _ = default()\n",
        "\n",
        "gc = gspread.authorize(creds)"
      ],
      "metadata": {
        "id": "7vL-hKv54EBX"
      },
      "execution_count": 17,
      "outputs": []
    },
    {
      "cell_type": "code",
      "source": [
        "#CREACION de la hoja de caluclo de google sheets\n",
        "sh = gc.create('Bicicletas Web scraping Gspread KROMOS AND BERTOLLINA')"
      ],
      "metadata": {
        "id": "bQ740gg0350_"
      },
      "execution_count": 18,
      "outputs": []
    },
    {
      "cell_type": "code",
      "source": [
        "# prompt: Crear una hoja dentro de mi hoja de calculo 'Bicicletas Web scraping Gspread KROMOS AND BERTOLLINA' llamada Kromos\n",
        "\n",
        "worksheet = gc.open('Bicicletas Web scraping Gspread KROMOS AND BERTOLLINA').add_worksheet(title=\"Kromos\", rows=100, cols=20)\n"
      ],
      "metadata": {
        "id": "weKmDVDJxVVn"
      },
      "execution_count": 20,
      "outputs": []
    },
    {
      "cell_type": "code",
      "source": [
        "# prompt: Crear una hoja dentro de mi hoja de calculo 'Bicicletas Web scraping Gspread KROMOS AND BERTOLLINA' llamada Bertollina\n",
        "\n",
        "worksheet = gc.open('Bicicletas Web scraping Gspread KROMOS AND BERTOLLINA').add_worksheet(title=\"Bertollina\", rows=100, cols=20)\n"
      ],
      "metadata": {
        "id": "5ZUc54kYxqyB"
      },
      "execution_count": 21,
      "outputs": []
    },
    {
      "cell_type": "code",
      "source": [
        "#Agregado del Open de KROMOS\n",
        "worksheetK = gc.open('Bicicletas Web scraping Gspread KROMOS AND BERTOLLINA').worksheet('Kromos')"
      ],
      "metadata": {
        "id": "tz2DCvp31L4A"
      },
      "execution_count": 22,
      "outputs": []
    },
    {
      "cell_type": "code",
      "source": [
        "# Open our new sheet and add some data and also importing the data to the sheet.(KROMOS)\n",
        "worksheetK.update([dfK.columns.values.tolist()] + dfK.values.tolist())\n"
      ],
      "metadata": {
        "id": "DoLh_xk88vrL",
        "colab": {
          "base_uri": "https://localhost:8080/"
        },
        "outputId": "809dc6bc-d9f2-45b4-a290-4c12c2b0b5eb"
      },
      "execution_count": 23,
      "outputs": [
        {
          "output_type": "execute_result",
          "data": {
            "text/plain": [
              "{'spreadsheetId': '14uJDTTwzc7ik284eUpeX1IAjTkabLL45X9qKb_Sl2Uk',\n",
              " 'updatedRange': 'Kromos!A1:B21',\n",
              " 'updatedRows': 21,\n",
              " 'updatedColumns': 2,\n",
              " 'updatedCells': 42}"
            ]
          },
          "metadata": {},
          "execution_count": 23
        }
      ]
    },
    {
      "cell_type": "code",
      "source": [
        "#Agregado del Open de BERTOLLIN\n",
        "worksheetB = gc.open('Bicicletas Web scraping Gspread KROMOS AND BERTOLLINA').worksheet('Bertollina')"
      ],
      "metadata": {
        "id": "7m2IIW176vtu"
      },
      "execution_count": 24,
      "outputs": []
    },
    {
      "cell_type": "code",
      "source": [
        "# Open our new sheet and add some data and also importing the data to the sheet. (BERTOLLINA)\n",
        "worksheetB.update([dfB.columns.values.tolist()] + dfB.values.tolist())"
      ],
      "metadata": {
        "id": "RQIeYGwzM_Wc",
        "colab": {
          "base_uri": "https://localhost:8080/"
        },
        "outputId": "a565745d-68e4-4b0c-a471-68d9265d7cad"
      },
      "execution_count": 25,
      "outputs": [
        {
          "output_type": "execute_result",
          "data": {
            "text/plain": [
              "{'spreadsheetId': '14uJDTTwzc7ik284eUpeX1IAjTkabLL45X9qKb_Sl2Uk',\n",
              " 'updatedRange': 'Bertollina!A1:C17',\n",
              " 'updatedRows': 17,\n",
              " 'updatedColumns': 3,\n",
              " 'updatedCells': 51}"
            ]
          },
          "metadata": {},
          "execution_count": 25
        }
      ]
    },
    {
      "cell_type": "markdown",
      "source": [
        "\n",
        "\n",
        "---\n",
        "\n"
      ],
      "metadata": {
        "id": "0FjbMzHK6sL-"
      }
    },
    {
      "cell_type": "code",
      "source": [
        "#ESTE ES EL CODIGO COMPLETO PARA DESCARGAR DIRECTAMENTE EL CSV Y HACERLO CON LOS METODOS VIEJOS\n",
        "#bicicletasL.insert(0, \"Bicicletas\")\n",
        "#precioL.insert(0, \"Precio\")\n",
        "#datos = dict(zip(bicicletasL, precioL))\n",
        "#with open (\"datos.csv\", \"w\") as f:\n",
        " # w = csv.writer(f)\n",
        " # w.writerows(datos.items())"
      ],
      "metadata": {
        "id": "SzIhjhSFt7Ab"
      },
      "execution_count": null,
      "outputs": []
    },
    {
      "cell_type": "markdown",
      "source": [
        "\n",
        "Codigo pseudoautomatizado para extraer datos de Corrientes Bikes\n",
        "---\n",
        "El problma que tiene este codigo es el de los precios\n"
      ],
      "metadata": {
        "id": "dp2hKWIrIDgu"
      }
    },
    {
      "cell_type": "code",
      "source": [
        "URL_BASEC = 'https://corrientesbikes.com.ar/?s=venzo&post_type=product&dgwt_wcas=1'\n",
        "\n",
        "# Obtener el HTML de la página\n",
        "pedido_obtenidoC = requests.get(URL_BASEC)\n",
        "html_obtenidoC = pedido_obtenidoC.text\n",
        "\n",
        "# Parsear el HTML\n",
        "soupC = BeautifulSoup(html_obtenidoC, 'html.parser')"
      ],
      "metadata": {
        "id": "pk1vy4p3H-7G"
      },
      "execution_count": null,
      "outputs": []
    },
    {
      "cell_type": "code",
      "source": [
        "# Encontrar todos los títulos y precios\n",
        "bicicletasC = soupC.find_all('h2', class_='woocommerce-loop-product__title')\n",
        "dato_productoC = soupC.find_all ('span', class_='cuotas')\n",
        "precioC = soupC.find_all('span', class_=\"woocommerce-Price-currencySymbol\")\n",
        "\n",
        "spansC = soupC.find_all('span', class_='woocommerce-Price-currencySymbol')\n",
        "\n",
        "#obtencion de precios y limpieza de los mismos\n",
        "# Iterar sobre los elementos encontrados\n",
        "for span in spansC:\n",
        "    # Verificar si el siguiente hermano del span contiene el precio\n",
        "    if span.next_sibling:\n",
        "        precioC = span.next_sibling.strip()+','\n",
        "        print(precioC)\n",
        "\n",
        "#los valores de los precios se copian y se pegan a mano porque no entiendo que pasa con el ciclo for que no me extraeos dtos ala lsta que arme preciosL"
      ],
      "metadata": {
        "colab": {
          "base_uri": "https://localhost:8080/"
        },
        "id": "kHJGLA5WIybu",
        "outputId": "f280d01b-1954-4253-a7cb-bedef969cbca"
      },
      "execution_count": null,
      "outputs": [
        {
          "output_type": "stream",
          "name": "stdout",
          "text": [
            "0,\n",
            "2.468.126,\n",
            "2.830.625,\n",
            "481.125,\n",
            "1.494.875,\n",
            "798.625,\n",
            "784.375,\n",
            "1.494.875,\n",
            "921.875,\n",
            "671.875,\n",
            "584.375,\n",
            "697.375,\n",
            "684.375,\n"
          ]
        }
      ]
    },
    {
      "cell_type": "code",
      "source": [
        "for bicicleta in bicicletasC:\n",
        " print(bicicleta.get_text(strip=True)+',')\n"
      ],
      "metadata": {
        "colab": {
          "base_uri": "https://localhost:8080/"
        },
        "id": "eouDOOyPJGiF",
        "outputId": "fd420c02-4b15-497b-cee8-c785c0181a43"
      },
      "execution_count": null,
      "outputs": [
        {
          "output_type": "stream",
          "name": "stdout",
          "text": [
            "Venzo Etna,\n",
            "Venzo X-Force,\n",
            "Venzo Loki R29,\n",
            "Venzo Atix 2×11,\n",
            "Venzo Raptor EXO,\n",
            "Venzo Phoenix Sensah,\n",
            "Venzo Atix Evo 30 Vel.,\n",
            "Venzo Raptor 3×9 Mecanico,\n",
            "Venzo Eolo Evo 24V Sensa R29,\n",
            "Venzo Skyline disco Mecanico,\n",
            "Venzo Raptor 24 Vel. a Rosca,\n",
            "Venzo Primal 24 Vel a Cassete,\n"
          ]
        }
      ]
    },
    {
      "cell_type": "code",
      "source": [
        "for datos_producto in dato_productoC:\n",
        "  print(datos_producto.get_text(strip=True)+',')"
      ],
      "metadata": {
        "colab": {
          "base_uri": "https://localhost:8080/"
        },
        "id": "JRRXYgv0Km5_",
        "outputId": "6bd8b9c0-0c27-44aa-8eb0-4151bb1a7a2d"
      },
      "execution_count": null,
      "outputs": [
        {
          "output_type": "stream",
          "name": "stdout",
          "text": [
            "3 cuotas sin interés de  $822.708,67,\n",
            "3 cuotas sin interés de  $943.541,67,\n",
            "3 cuotas sin interés de  $160.375,00,\n",
            "3 cuotas sin interés de  $498.291,67,\n",
            "3 cuotas sin interés de  $266.208,33,\n",
            "3 cuotas sin interés de  $261.458,33,\n",
            "3 cuotas sin interés de  $498.291,67,\n",
            "3 cuotas sin interés de  $307.291,67,\n",
            "3 cuotas sin interés de  $223.958,33,\n",
            "3 cuotas sin interés de  $194.791,67,\n",
            "3 cuotas sin interés de  $232.458,33,\n",
            "3 cuotas sin interés de  $228.125,00,\n"
          ]
        }
      ]
    },
    {
      "cell_type": "code",
      "source": [
        "#Creado de las listas, menos la de precio\n",
        "bicicletasLC = []\n",
        "datosLC = []\n",
        "preciosLC = [0,\n",
        "2.468.126,\n",
        "2.830.625,\n",
        "481.125,\n",
        "1.494.875,\n",
        "798.625,\n",
        "784.375,\n",
        "1.494.875,\n",
        "921.875,\n",
        "671.875,\n",
        "584.375,\n",
        "697.375,\n",
        "684.375,]"
      ],
      "metadata": {
        "colab": {
          "base_uri": "https://localhost:8080/",
          "height": 109
        },
        "id": "R6jlipPoRoCU",
        "outputId": "6e3a0ad5-3d84-43f1-a120-64a7dd27a950"
      },
      "execution_count": null,
      "outputs": [
        {
          "output_type": "error",
          "ename": "SyntaxError",
          "evalue": "invalid syntax. Perhaps you forgot a comma? (<ipython-input-59-b8e3e2998eeb>, line 5)",
          "traceback": [
            "\u001b[0;36m  File \u001b[0;32m\"<ipython-input-59-b8e3e2998eeb>\"\u001b[0;36m, line \u001b[0;32m5\u001b[0m\n\u001b[0;31m    2.468.126,\u001b[0m\n\u001b[0m    ^\u001b[0m\n\u001b[0;31mSyntaxError\u001b[0m\u001b[0;31m:\u001b[0m invalid syntax. Perhaps you forgot a comma?\n"
          ]
        }
      ]
    },
    {
      "cell_type": "code",
      "source": [
        "#CREAR UN DATAFRAME PARA Corrientes\n"
      ],
      "metadata": {
        "id": "VLeL5xfrMoGe"
      },
      "execution_count": null,
      "outputs": []
    },
    {
      "cell_type": "code",
      "source": [
        "#CREAR LA HOJA DE SHEETS para almacenar los datos de Corrientes Bikes Shop\n",
        "worksheetC = gc.open('Bicicletas Web scraping Gspread').worksheet('coorientes bikes')\n"
      ],
      "metadata": {
        "id": "I3WL4-cvKtFe"
      },
      "execution_count": null,
      "outputs": []
    },
    {
      "cell_type": "markdown",
      "source": [
        "\n",
        "CODIGO PARA EXTRAER LOS DATOS DE FACHIN\n",
        "---\n",
        "\n"
      ],
      "metadata": {
        "id": "QuRfKKWTNt-D"
      }
    },
    {
      "cell_type": "code",
      "source": [
        "#introduccir\n",
        "URL_BASEF = 'https://www.facchinbicycles.com.ar/listado/deportes-fitness/ciclismo/bicicletas/venzo/'\n",
        "\n",
        "# Obtener el HTML de la página\n",
        "pedido_obtenidoF = requests.get(URL_BASEF)\n",
        "html_obtenidoF = pedido_obtenidoF.text\n",
        "\n",
        "# Parsear el HTML\n",
        "soupF = BeautifulSoup(html_obtenidoF, 'html.parser')"
      ],
      "metadata": {
        "id": "PpF5TMlMN6Qm"
      },
      "execution_count": null,
      "outputs": []
    },
    {
      "cell_type": "code",
      "source": [
        "bicicletaLF = []\n",
        "preciosLF = []"
      ],
      "metadata": {
        "id": "w28QYu1WOFua"
      },
      "execution_count": null,
      "outputs": []
    },
    {
      "cell_type": "code",
      "source": [
        "\n",
        "# Encontrar todos los títulos y precios\n",
        "bicicletaF = soupF.find_all('h2', class_='ui-search-item__title shops__item-title')\n",
        "preciosF = soupF.find_all('div', class_='ui-search-price ui-search-price--size-medium shops__price')"
      ],
      "metadata": {
        "id": "2VS4JFWhOIQ-"
      },
      "execution_count": null,
      "outputs": []
    },
    {
      "cell_type": "code",
      "source": [
        "for bicicletas in bicicletaF:\n",
        "  bicicletaLF.append(bicicletas.get_text(strip=True))"
      ],
      "metadata": {
        "id": "vW3ul7FfOOvm"
      },
      "execution_count": null,
      "outputs": []
    },
    {
      "cell_type": "code",
      "source": [
        "#estos datos van a estar registrados como una lista completa y luego se va a dividir el texto en columnas po $ y % en google sheets\n",
        "for precio in preciosF:\n",
        "  preciosLF.append(precio.get_text(strip=True))"
      ],
      "metadata": {
        "id": "LBYJhZcjOQfY"
      },
      "execution_count": null,
      "outputs": []
    },
    {
      "cell_type": "code",
      "source": [
        "#CREACION DEL DATAFRAME\n",
        "ListaFinalF = list(zip(bicicletaLF, preciosLF))\n",
        "dfF = pd.DataFrame(ListaFinalF, columns=['Bicicleta','Precio'])"
      ],
      "metadata": {
        "id": "tkyqZI2ePAFL"
      },
      "execution_count": null,
      "outputs": []
    },
    {
      "cell_type": "code",
      "source": [
        "#Agregado del Open de BERTOLLIN\n",
        "worksheetF = gc.open('Bicicletas Web scraping Gspread').worksheet('fachin')"
      ],
      "metadata": {
        "id": "Sf8fFB6XQT_y"
      },
      "execution_count": null,
      "outputs": []
    },
    {
      "cell_type": "code",
      "source": [
        "# Open our new sheet and add some data and also importing the data to the sheet. (BERTOLLINA)\n",
        "worksheetF.update([dfF.columns.values.tolist()] + dfF.values.tolist())"
      ],
      "metadata": {
        "colab": {
          "base_uri": "https://localhost:8080/"
        },
        "id": "uv5q3YSxQT_z",
        "outputId": "ddfd3eba-583f-4425-c4d3-39bb0c864716"
      },
      "execution_count": null,
      "outputs": [
        {
          "output_type": "execute_result",
          "data": {
            "text/plain": [
              "{'spreadsheetId': '1JFs2g8hMzAK482Gi7pou_h5JjhTDncMTxRbH0ws4bXk',\n",
              " 'updatedRange': 'fachin!A1:B51',\n",
              " 'updatedRows': 51,\n",
              " 'updatedColumns': 2,\n",
              " 'updatedCells': 102}"
            ]
          },
          "metadata": {},
          "execution_count": 52
        }
      ]
    }
  ]
}