{
  "nbformat": 4,
  "nbformat_minor": 0,
  "metadata": {
    "colab": {
      "provenance": [],
      "authorship_tag": "ABX9TyOwgQJMdGC+LCpzG3H1QzQ3",
      "include_colab_link": true
    },
    "kernelspec": {
      "name": "python3",
      "display_name": "Python 3"
    },
    "language_info": {
      "name": "python"
    }
  },
  "cells": [
    {
      "cell_type": "markdown",
      "metadata": {
        "id": "view-in-github",
        "colab_type": "text"
      },
      "source": [
        "<a href=\"https://colab.research.google.com/github/matiasmazzucchi/Python-Prep/blob/main/WebscrapingBiciclets.ipynb\" target=\"_parent\"><img src=\"https://colab.research.google.com/assets/colab-badge.svg\" alt=\"Open In Colab\"/></a>"
      ]
    },
    {
      "cell_type": "code",
      "execution_count": 11,
      "metadata": {
        "id": "854_kDNyKXaH"
      },
      "outputs": [],
      "source": [
        "#llamar a las siguientes bibliotecas\n",
        "from bs4 import BeautifulSoup\n",
        "import requests\n",
        "import pandas as pd\n",
        "import re\n",
        "import csv"
      ]
    },
    {
      "cell_type": "code",
      "source": [
        "#URL DE CADA PAGINA (terminados en 'K'es de la pagina Kromos y terminados en 'B' es de la pagina de bertollina)\n",
        "URL_BASE_K = 'https://www.kromosbicicletas.com.ar/productos/mar/1/venzo'\n",
        "URL_BASE_B = 'https://www.bertolinabikes.com/search/?q=venzo&mpage=2'\n",
        "\n",
        "#Obtener el HTML de la página\n",
        "pedido_obtenidoK = requests.get(URL_BASE_K)\n",
        "html_obtenidoK = pedido_obtenidoK.text\n",
        "pedido_obtenidoB = requests.get(URL_BASE_B)\n",
        "html_obtenidoB = pedido_obtenidoB.text\n",
        "\n",
        "\n",
        "#Parsear el HTML\n",
        "soupK = BeautifulSoup(html_obtenidoK, 'html.parser')\n",
        "soupB = BeautifulSoup(html_obtenidoB, 'html.parser')\n"
      ],
      "metadata": {
        "id": "K_qLgAaxKk6D"
      },
      "execution_count": 12,
      "outputs": []
    },
    {
      "cell_type": "code",
      "source": [
        "# Encontrar todos los títulos y precios\n",
        "#KROMOS\n",
        "bicicletasK = soupK.find_all('h2', class_='tt-title')\n",
        "precioK = soupK.find_all('div', class_=\"tt-price\")\n",
        "#BERTOLLINA\n",
        "bicicletasB = soupB.find_all('a', class_='js-item-name')\n",
        "preciosB = soupB.find_all('span', class_='js-price-display item-price h6')\n",
        "precios_viejosB = soupB.find_all('span', class_=\"js-compare-price-display item-price-compare p-none-left-xs p-right-quarter-xs\")\n"
      ],
      "metadata": {
        "id": "zOJsyvFtKqt6"
      },
      "execution_count": 13,
      "outputs": []
    },
    {
      "cell_type": "code",
      "source": [
        "#Creating the lists for the next dataframe\n",
        "#KROMOS\n",
        "bicicletasKL = []\n",
        "precioKL = []\n",
        "#BERTOLLINA\n",
        "bicicletaBL = []\n",
        "preciosBL = []\n",
        "precios_viejosBL = []"
      ],
      "metadata": {
        "id": "z1_NKDX15mUK"
      },
      "execution_count": 14,
      "outputs": []
    },
    {
      "cell_type": "code",
      "source": [
        "#Ciclos for para limpiar los datos y obtener los nombres y bicicletas\n",
        "#KROMOS\n",
        "for bicicleta in bicicletasK:\n",
        " bicicletasKL.append(bicicleta.get_text(strip=True))\n",
        "\n",
        "for precios in precioK:\n",
        "  precioKL.append(precios.get_text(strip=True))\n",
        "\n",
        "#BERTOLLINA\n",
        "for bicicletas in bicicletasB:\n",
        "  bicicletaBL.append(bicicletas.get_text(strip=True))\n",
        "\n",
        "for precios in preciosB:\n",
        "  preciosBL.append(precios.get_text(strip=True))\n",
        "\n",
        "\n",
        "for precio_viejo in precios_viejosB:\n",
        "  precios_viejosBL.append(precio_viejo.get_text(strip=True))\n"
      ],
      "metadata": {
        "id": "uzF-JwX9MBfN"
      },
      "execution_count": 15,
      "outputs": []
    },
    {
      "cell_type": "code",
      "source": [
        "#Armado del dataframe\n",
        "#KROMOS DATAFRAME\n",
        "ListaFinalK = list(zip(bicicletasKL, precioKL))\n",
        "dfK = pd.DataFrame(ListaFinalK, columns=['Bicicleta','Precio'])\n",
        "\n",
        "#BERTOLLINA DATAFRAME\n",
        "ListaFinalB = list(zip(bicicletaBL, preciosBL, precios_viejosBL))\n",
        "dfB = pd.DataFrame(ListaFinalB, columns=['Bicicleta','Precio', 'Precios Viejos'])"
      ],
      "metadata": {
        "id": "_PpCYlgZwE_S"
      },
      "execution_count": 16,
      "outputs": []
    },
    {
      "cell_type": "markdown",
      "source": [
        "CREATING A DATAFRAME TO EXPORT DATA TO GOOGLE SHEETS FROM GOOGLE COLAB\n"
      ],
      "metadata": {
        "id": "62H1CtHgljWa"
      }
    },
    {
      "cell_type": "code",
      "source": [
        "#Autenticacion y permisos de uso de la API de google SHEETS\n",
        "from google.colab import auth\n",
        "auth.authenticate_user()\n",
        "\n",
        "import gspread\n",
        "from google.auth import default\n",
        "creds, _ = default()\n",
        "\n",
        "gc = gspread.authorize(creds)"
      ],
      "metadata": {
        "id": "7vL-hKv54EBX"
      },
      "execution_count": 2,
      "outputs": []
    },
    {
      "cell_type": "code",
      "source": [
        "#CREACION de la hoja de caluclo de google sheets\n",
        "sh = gc.create('Bicicletas Web scraping Gspread')"
      ],
      "metadata": {
        "id": "bQ740gg0350_"
      },
      "execution_count": null,
      "outputs": []
    },
    {
      "cell_type": "code",
      "source": [
        "#Agregado del Open de KROMOS\n",
        "worksheetK = gc.open('Bicicletas Web scraping Gspread').worksheet('kromos')"
      ],
      "metadata": {
        "id": "tz2DCvp31L4A"
      },
      "execution_count": 18,
      "outputs": []
    },
    {
      "cell_type": "code",
      "source": [
        "# Open our new sheet and add some data and also importing the data to the sheet.(KROMOS)\n",
        "worksheetK.update([dfK.columns.values.tolist()] + dfK.values.tolist())\n"
      ],
      "metadata": {
        "id": "DoLh_xk88vrL"
      },
      "execution_count": null,
      "outputs": []
    },
    {
      "cell_type": "code",
      "source": [
        "#Agregado del Open de BERTOLLIN\n",
        "worksheetB = gc.open('Bicicletas Web scraping Gspread').worksheet('bertollina')"
      ],
      "metadata": {
        "id": "7m2IIW176vtu"
      },
      "execution_count": null,
      "outputs": []
    },
    {
      "cell_type": "code",
      "source": [
        "# Open our new sheet and add some data and also importing the data to the sheet. (BERTOLLINA)\n",
        "worksheetB.update([dfB.columns.values.tolist()] + dfB.values.tolist())"
      ],
      "metadata": {
        "id": "RQIeYGwzM_Wc"
      },
      "execution_count": null,
      "outputs": []
    },
    {
      "cell_type": "markdown",
      "source": [
        "\n",
        "\n",
        "---\n",
        "\n"
      ],
      "metadata": {
        "id": "0FjbMzHK6sL-"
      }
    },
    {
      "cell_type": "code",
      "source": [
        "#ESTE ES EL CODIGO COMPLETO PARA DESCARGAR DIRECTAMENTE EL CSV Y HACERLO CON LOS METODOS VIEJOS\n",
        "#bicicletasL.insert(0, \"Bicicletas\")\n",
        "#precioL.insert(0, \"Precio\")\n",
        "#datos = dict(zip(bicicletasL, precioL))\n",
        "#with open (\"datos.csv\", \"w\") as f:\n",
        " # w = csv.writer(f)\n",
        " # w.writerows(datos.items())"
      ],
      "metadata": {
        "id": "SzIhjhSFt7Ab"
      },
      "execution_count": null,
      "outputs": []
    }
  ]
}